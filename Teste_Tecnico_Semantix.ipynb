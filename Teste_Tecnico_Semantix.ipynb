{
 "cells": [
  {
   "cell_type": "markdown",
   "id": "d08db278-40a8-4b81-a09e-93cbb403c557",
   "metadata": {},
   "source": [
    "# Teste Técnico para Estagio - Rafael Geraldini Francisco"
   ]
  },
  {
   "cell_type": "markdown",
   "id": "b23e8f0a-6fbb-4820-a3ee-54d33189126c",
   "metadata": {},
   "source": [
    "#### Primeiro passo foi chamar algumas bibliotecas"
   ]
  },
  {
   "cell_type": "code",
   "execution_count": 1,
   "id": "7dd8d01b-6d4a-49bc-bc2b-a8c37b25655e",
   "metadata": {},
   "outputs": [],
   "source": [
    "import pandas as pd\n",
    "import numpy as np\n",
    "from collections import deque\n",
    "import plotly.graph_objects as go"
   ]
  },
  {
   "cell_type": "markdown",
   "id": "491bbaac-b7e6-4bd0-a7df-0209b9fec3a7",
   "metadata": {},
   "source": [
    "#### Irei definir uma classe Graph para tratar os dados fornecidos, irei assumir que são do tipo \"undirect\" e de mesmo pesos. Será representado por lista adjacente em um dicionario do python"
   ]
  },
  {
   "cell_type": "code",
   "execution_count": 2,
   "id": "8a2f7ae7-eef3-4f63-8527-c2bf6e7aec6b",
   "metadata": {},
   "outputs": [],
   "source": [
    "class Graph:\n",
    "    def __init__(self, q_vertex):                                    #Inicia a classe\n",
    "        self.d_q_vertex = q_vertex                                   #Define a variavel interna\n",
    "        self.d_vertex = range(self.d_q_vertex)                       #Tamanho\n",
    "\n",
    "        self.d_ladj = {vertex: set() for vertex in self.d_vertex}    #Prepara o set\n",
    "\n",
    "    def new_edge(self, vertex1, vertex2):                            #Comando para adicionar novo edge\n",
    "        self.d_ladj[vertex1].add(str(vertex2))                       #Por ser undirect\n",
    "        self.d_ladj[vertex2].add(str(vertex1))\n",
    "\n",
    "#    def print_ladj(self):\n",
    "#        for key in self.d_ladj.keys():\n",
    "#            print(\"vertex\", key, \": \", self.d_ladj[key])"
   ]
  },
  {
   "cell_type": "markdown",
   "id": "65e8e3d8-d79f-4892-af83-236c88e94a60",
   "metadata": {},
   "source": [
    "#### Para calculo da \"Closeness Centrality\" irei utilizar o algoritmo A*, assim irei definir uma classe com ele onde tudo sera tratado"
   ]
  },
  {
   "cell_type": "markdown",
   "id": "80b6cfa1-9f34-4880-9a12-ad0886296562",
   "metadata": {},
   "source": [
    "##### A função heuristica foi considerada igual a 1 para todos os nodes, visto que no calculo manual do caminho para um um grupo de 10 edges encontrou uma distancia media de 2, assim não aparece no calculo"
   ]
  },
  {
   "cell_type": "code",
   "execution_count": 3,
   "id": "1cf8bc3d-ccf2-4d5e-84b3-6ae91b23f4ec",
   "metadata": {},
   "outputs": [],
   "source": [
    "class Astar:\n",
    "    def __init__(self, ladj):\n",
    "        self.ladj = ladj\n",
    "\n",
    "    def l_edges(self, v):\n",
    "        return self.ladj[v]\n",
    "\n",
    "    def alg_astar(self, source, target):\n",
    "        vistos_nexaminados = set([source])      #Visitado mas ainda falta nodes\n",
    "        vistos_examinados = set([])             #Visitado completamente\n",
    "        d = {}                                  #Distancia dos nodes\n",
    "        d[source] = 0                           #Distancia source source\n",
    "        prox = {}                               #Na proximidade\n",
    "        prox[source] = source\n",
    "\n",
    "        while len(vistos_nexaminados) > 0:\n",
    "            n = None\n",
    "\n",
    "            for v in vistos_nexaminados:        #Encontra a menor distancia\n",
    "                if n == None or d[v] < d[n] :\n",
    "                    n = v;\n",
    "\n",
    "            if n == target:                     #Se chegou, define o caminho usado\n",
    "                caminho = []\n",
    "\n",
    "                while prox[n] != n:\n",
    "                    caminho.append(n)\n",
    "                    n = prox[n]\n",
    "\n",
    "                caminho.append(source)\n",
    "\n",
    "                caminho.reverse()\n",
    "\n",
    "                return caminho\n",
    "\n",
    "            for m in self.l_edges(n):           #Para a proximidade\n",
    "                if m not in vistos_nexaminados and m not in vistos_examinados:\n",
    "                    vistos_nexaminados.add(m)\n",
    "                    prox[m] = n\n",
    "                    d[m] = d[n] + 1\n",
    "                else:\n",
    "                    if d[m] > d[n] + 1:\n",
    "                        d[m] = d[n] + 1\n",
    "                        prox[m] = n\n",
    "\n",
    "                        if m in vistos_examinados:\n",
    "                            vistos_examinados.remove(m)\n",
    "                            vistos_nexaminados.add(m)\n",
    "\n",
    "            \n",
    "            vistos_nexaminados.remove(n)        #Quando terminou com o vertice\n",
    "            vistos_examinados.add(n)\n",
    "\n",
    "        return None"
   ]
  },
  {
   "cell_type": "markdown",
   "id": "deb17652-4564-4c96-a285-2722e8271e36",
   "metadata": {},
   "source": [
    "#### Importei o arquivo fornecido como um Dataframe do pandas"
   ]
  },
  {
   "cell_type": "code",
   "execution_count": 4,
   "id": "a45e612e-ab2a-4bd5-9727-f6e170fb994f",
   "metadata": {},
   "outputs": [],
   "source": [
    "df = pd.read_csv('edges', sep=' ',header=None) #Importa o arquivo que deve estar na mesma pasta\n",
    "edges = len(df)  #Encontra a quantidade de edges\n",
    "dfagr = df.groupby(0).agg(list).to_dict().get(1) #agrupa o array por nodes\n",
    "vertices = len(dfagr) #Encontra a quantidade de vertices"
   ]
  },
  {
   "cell_type": "markdown",
   "id": "7fb87348-f1b5-4c89-a3a7-4f9bd5493f86",
   "metadata": {},
   "source": [
    "#### Inicia o Graph"
   ]
  },
  {
   "cell_type": "code",
   "execution_count": 5,
   "id": "bbbddc9a-7952-40e2-b2a0-43e26b3a9eca",
   "metadata": {},
   "outputs": [],
   "source": [
    "G = Graph(vertices)\n",
    "\n",
    "npa=np.array(df)   #Transforma o dataframe em um array do numpy\n",
    "edg= range(edges)\n",
    "for n in edg:\n",
    "    G.new_edge(npa[n,0],npa[n,1])\n",
    "\n",
    "keys_values = G.d_ladj.items()\n",
    "Cms = {str(key): value for key, value in keys_values} #Transforma a chave do dicionario em string para uso no A*"
   ]
  },
  {
   "cell_type": "markdown",
   "id": "1660116b-6605-408d-a457-88a38bcf5a5d",
   "metadata": {},
   "source": [
    "#### Inicia o Algoritmo A*"
   ]
  },
  {
   "cell_type": "code",
   "execution_count": 6,
   "id": "a51d7c86-eed5-4a02-bd8c-68e077302c35",
   "metadata": {},
   "outputs": [],
   "source": [
    "GAstar = Astar(Cms)    #cria a entidade da classe Astar                                         \n",
    "vtc = range(vertices)  #variavel com a quantidade de vertices\n",
    "CC = []   #inicia a lista onde será salvo CC\n",
    "for x in vtc:      #para cada vertice\n",
    "    dist = 0       #reinicia a variavel\n",
    "    for y in vtc:  #para cada vertice\n",
    "        if x != y: #distancia do vertice pra ele mesmo não entra\n",
    "            dist = dist + len(GAstar.alg_astar(str(x), str(y))) #dist é somatorio da distancia entre pelo algoritmo\n",
    "    CC.append((x, 1/dist, (vertices-1)/dist))   #adiciona o vertice atual, cc e cc normalizada na lista\n",
    "    \n",
    "    "
   ]
  },
  {
   "cell_type": "markdown",
   "id": "9294c165-3ea5-4e44-8383-5b43cdd6ae1b",
   "metadata": {},
   "source": [
    "#### Organiza a lista e exporta os dados"
   ]
  },
  {
   "cell_type": "code",
   "execution_count": 7,
   "id": "33eea591-cc78-41bf-be82-8c3b7c27fb6d",
   "metadata": {},
   "outputs": [],
   "source": [
    "CC_sorted = sorted(CC, key=lambda CC: CC[1], reverse=True) #ordena pelo maior Closeness centrality"
   ]
  },
  {
   "cell_type": "code",
   "execution_count": 8,
   "id": "b2c80003-4142-44d3-8cc1-606d66fd27d2",
   "metadata": {},
   "outputs": [],
   "source": [
    "dff = pd.DataFrame(CC_sorted)  #transforma a lista em um dataframe do pandas\n",
    "names = ['Vértice', 'CC', 'CC Normalizada']  #nomes das colunas\n",
    "dff.columns = names  #nomeia as colunas\n",
    "dff.to_csv('CC_sorted.csv', index=False) #cria um csv com os dados para uso em outros software"
   ]
  },
  {
   "cell_type": "markdown",
   "id": "af166ab1-5581-499d-ab58-5068379a2651",
   "metadata": {},
   "source": [
    "#### Network Graph"
   ]
  },
  {
   "cell_type": "code",
   "execution_count": 9,
   "id": "6c2f28e8-5009-45c6-835a-b77258ca86e4",
   "metadata": {},
   "outputs": [],
   "source": [
    "fig = go.Figure() #Inicia a figura\n",
    "vn=0\n",
    "for op in range(vertices):  # interage para todos os vértices, e usa o dicionario para encontrar as ligações\n",
    "    vat = int(dff.iat[op,0])\n",
    "    vzn = dfagr[vat]\n",
    "    xi = (op % 10) + 1\n",
    "    yi = (op // 10) +1\n",
    "    for opr in range(len(vzn)):\n",
    "        tg = vzn[opr]\n",
    "        xt = (tg % 10) + 1\n",
    "        yt = (tg // 10) +1\n",
    "        x=[xi, xt]\n",
    "        y=[yi, yt]\n",
    "        fig.add_trace(        #Adiciona o traço como representação de edges\n",
    "            go.Scatter(\n",
    "                mode='lines',\n",
    "                x=x,\n",
    "                y=y,\n",
    "                line=dict(\n",
    "                    color='black',\n",
    "                    width=1,\n",
    "                ),\n",
    "                showlegend=False\n",
    "            )\n",
    "        )\n"
   ]
  },
  {
   "cell_type": "code",
   "execution_count": 10,
   "id": "fcd321be-82da-4a9b-bfda-271aa54004f6",
   "metadata": {},
   "outputs": [],
   "source": [
    "x=[] #inicia vetores para x, y e nomes\n",
    "y=[]\n",
    "nome=[]\n",
    "for op in range(1,11):   #gera a posição e o nome de cada node\n",
    "    for opr in range(1,11):\n",
    "        y.append(op)\n",
    "        x.append(opr)\n",
    "        nome.append(str(dff.iat[int((op+opr)-2),0]))\n",
    "\n",
    "fig.add_trace(   #adiciona cada node na figura com os edges\n",
    "            go.Scatter(\n",
    "                mode='markers+text',\n",
    "                text=nome,\n",
    "                textposition=\"middle center\",\n",
    "                textfont = dict(\n",
    "                    color='black',\n",
    "                    size=14\n",
    "                ),\n",
    "                x=x,\n",
    "                y=y,\n",
    "                marker=dict(\n",
    "                    color='green',\n",
    "                    size=40,\n",
    "                    line=dict(\n",
    "                        color='red',\n",
    "                        width=1\n",
    "                    )\n",
    "                ),\n",
    "                showlegend=False\n",
    "            )\n",
    "        )\n",
    "fig.update_layout(   #Ajusta o tamanho da figura\n",
    "    autosize=False,\n",
    "    width=800,\n",
    "    height=800,\n",
    ")\n",
    "\n",
    "fig.write_html(\"Graph.html\") #Exporta como interativo e estatico\n",
    "fig.write_image(\"Graph.png\")"
   ]
  }
 ],
 "metadata": {
  "kernelspec": {
   "display_name": "Python 3 (ipykernel)",
   "language": "python",
   "name": "python3"
  },
  "language_info": {
   "codemirror_mode": {
    "name": "ipython",
    "version": 3
   },
   "file_extension": ".py",
   "mimetype": "text/x-python",
   "name": "python",
   "nbconvert_exporter": "python",
   "pygments_lexer": "ipython3",
   "version": "3.10.4"
  }
 },
 "nbformat": 4,
 "nbformat_minor": 5
}
