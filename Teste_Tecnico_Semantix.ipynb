{
 "cells": [
  {
   "cell_type": "markdown",
   "id": "d08db278-40a8-4b81-a09e-93cbb403c557",
   "metadata": {},
   "source": [
    "# Teste Técnico para Estagio - Rafael Geraldini Francisco"
   ]
  },
  {
   "cell_type": "markdown",
   "id": "b23e8f0a-6fbb-4820-a3ee-54d33189126c",
   "metadata": {},
   "source": [
    "#### Primeiro passo foi chamar algumas bibliotecas"
   ]
  },
  {
   "cell_type": "code",
   "execution_count": 1,
   "id": "7dd8d01b-6d4a-49bc-bc2b-a8c37b25655e",
   "metadata": {},
   "outputs": [],
   "source": [
    "import pandas as pd\n",
    "import numpy as np\n",
    "from collections import deque"
   ]
  },
  {
   "cell_type": "markdown",
   "id": "491bbaac-b7e6-4bd0-a7df-0209b9fec3a7",
   "metadata": {},
   "source": [
    "#### Irei definir uma classe Graph para tratar os dados fornecidos, irei assumir que são do tipo \"undirect\" e de mesmo pesos. Será representado por lista adjacente em um dicionario do python"
   ]
  },
  {
   "cell_type": "code",
   "execution_count": 2,
   "id": "8a2f7ae7-eef3-4f63-8527-c2bf6e7aec6b",
   "metadata": {},
   "outputs": [],
   "source": [
    "class Graph:\n",
    "    def __init__(self, q_vertex):                                    #Inicia a classe\n",
    "        self.d_q_vertex = q_vertex                                   #Define a variavel interna\n",
    "        self.d_vertex = range(self.d_q_vertex)                       #Tamanho\n",
    "\n",
    "        self.d_ladj = {vertex: set() for vertex in self.d_vertex}    #Prepara o set\n",
    "\n",
    "    def new_edge(self, vertex1, vertex2):                            #Comando para adicionar novo edge\n",
    "        self.d_ladj[vertex1].add(str(vertex2))                       #Por ser undirect\n",
    "        self.d_ladj[vertex2].add(str(vertex1))\n",
    "\n",
    "#    def print_ladj(self):\n",
    "#        for key in self.d_ladj.keys():\n",
    "#            print(\"vertex\", key, \": \", self.d_ladj[key])"
   ]
  },
  {
   "cell_type": "markdown",
   "id": "65e8e3d8-d79f-4892-af83-236c88e94a60",
   "metadata": {},
   "source": [
    "#### Para calculo da \"Closeness Centrality\" irei utilizar o algoritmo A*, assim irei definir uma classe com ele onde tudo sera tratado"
   ]
  },
  {
   "cell_type": "markdown",
   "id": "80b6cfa1-9f34-4880-9a12-ad0886296562",
   "metadata": {},
   "source": [
    "##### A função heuristica foi considerada igual a 1 para todos os nodes, visto que no calculo manual do caminho para um um grupo de 10 edges encontrou uma distancia media de 2, assim não aparece no calculo"
   ]
  },
  {
   "cell_type": "code",
   "execution_count": 3,
   "id": "1cf8bc3d-ccf2-4d5e-84b3-6ae91b23f4ec",
   "metadata": {},
   "outputs": [],
   "source": [
    "class Astar:\n",
    "    def __init__(self, ladj):\n",
    "        self.ladj = ladj\n",
    "\n",
    "    def l_edges(self, v):\n",
    "        return self.ladj[v]\n",
    "\n",
    "    def alg_astar(self, source, target):\n",
    "        vistos_nexaminados = set([source])      #Visitado mas ainda falta nodes\n",
    "        vistos_examinados = set([])             #Visitado completamente\n",
    "        d = {}                                  #Distancia dos nodes\n",
    "        d[source] = 0                           #Distancia source source\n",
    "        prox = {}                               #Na proximidade\n",
    "        prox[source] = source\n",
    "\n",
    "        while len(vistos_nexaminados) > 0:\n",
    "            n = None\n",
    "\n",
    "            for v in vistos_nexaminados:        #Encontra a menor distancia\n",
    "                if n == None or d[v] < d[n] :\n",
    "                    n = v;\n",
    "\n",
    "            if n == target:                     #Se chegou, define o caminho usado\n",
    "                caminho = []\n",
    "\n",
    "                while prox[n] != n:\n",
    "                    caminho.append(n)\n",
    "                    n = prox[n]\n",
    "\n",
    "                caminho.append(source)\n",
    "\n",
    "                caminho.reverse()\n",
    "\n",
    "                return caminho\n",
    "\n",
    "            for m in self.l_edges(n):           #Para a proximidade\n",
    "                if m not in vistos_nexaminados and m not in vistos_examinados:\n",
    "                    vistos_nexaminados.add(m)\n",
    "                    prox[m] = n\n",
    "                    d[m] = d[n] + 1\n",
    "                else:\n",
    "                    if d[m] > d[n] + 1:\n",
    "                        d[m] = d[n] + 1\n",
    "                        prox[m] = n\n",
    "\n",
    "                        if m in vistos_examinados:\n",
    "                            vistos_examinados.remove(m)\n",
    "                            vistos_nexaminados.add(m)\n",
    "\n",
    "            \n",
    "            vistos_nexaminados.remove(n)        #Quando terminou com o vertice\n",
    "            vistos_examinados.add(n)\n",
    "\n",
    "        return None"
   ]
  },
  {
   "cell_type": "markdown",
   "id": "deb17652-4564-4c96-a285-2722e8271e36",
   "metadata": {},
   "source": [
    "#### Importei o arquivo fornecido como um Dataframe do pandas"
   ]
  },
  {
   "cell_type": "code",
   "execution_count": 13,
   "id": "a45e612e-ab2a-4bd5-9727-f6e170fb994f",
   "metadata": {},
   "outputs": [],
   "source": [
    "df = pd.read_csv('edges', sep=' ',header=None) #Importa o arquivo que deve estar na mesma pasta\n",
    "edges = len(df)  #Encontra a quantidade de edges\n",
    "vertices = len(df.groupby(0).agg(list).to_dict().get(1)) #Encontra a quantidade de vertices"
   ]
  },
  {
   "cell_type": "markdown",
   "id": "7fb87348-f1b5-4c89-a3a7-4f9bd5493f86",
   "metadata": {},
   "source": [
    "#### Inicia o Graph"
   ]
  },
  {
   "cell_type": "code",
   "execution_count": 22,
   "id": "bbbddc9a-7952-40e2-b2a0-43e26b3a9eca",
   "metadata": {},
   "outputs": [],
   "source": [
    "G = Graph(vertices)\n",
    "\n",
    "df=np.array(df)   #Transforma o dataframe em um array do numpy\n",
    "edg= range(edges)\n",
    "for n in edg:\n",
    "    G.new_edge(df[n,0],df[n,1])\n",
    "\n",
    "keys_values = G.d_ladj.items()\n",
    "Cms = {str(key): value for key, value in keys_values} #Transforma a chave do dicionario em string para uso no A*"
   ]
  },
  {
   "cell_type": "markdown",
   "id": "1660116b-6605-408d-a457-88a38bcf5a5d",
   "metadata": {},
   "source": [
    "#### Inicia o Algoritmo A*"
   ]
  },
  {
   "cell_type": "code",
   "execution_count": 43,
   "id": "a51d7c86-eed5-4a02-bd8c-68e077302c35",
   "metadata": {},
   "outputs": [],
   "source": [
    "GAstar = Astar(Cms)\n",
    "temp = 10\n",
    "tempr = range(temp)\n",
    "vtc = range(vertices)\n",
    "CC = []\n",
    "for x in vtc:\n",
    "    dist = 0\n",
    "    for y in vtc:\n",
    "        dist = dist + len(GAstar.alg_astar(str(x), str(y)))\n",
    "    CC.append((x,1/dist))\n",
    "    \n",
    "    "
   ]
  },
  {
   "cell_type": "code",
   "execution_count": 32,
   "id": "33eea591-cc78-41bf-be82-8c3b7c27fb6d",
   "metadata": {},
   "outputs": [
    {
     "data": {
      "text/plain": [
       "100"
      ]
     },
     "metadata": {},
     "output_type": "display_data"
    }
   ],
   "source": [
    "display(C)"
   ]
  },
  {
   "cell_type": "code",
   "execution_count": null,
   "id": "b2c80003-4142-44d3-8cc1-606d66fd27d2",
   "metadata": {},
   "outputs": [],
   "source": []
  }
 ],
 "metadata": {
  "kernelspec": {
   "display_name": "Python 3 (ipykernel)",
   "language": "python",
   "name": "python3"
  },
  "language_info": {
   "codemirror_mode": {
    "name": "ipython",
    "version": 3
   },
   "file_extension": ".py",
   "mimetype": "text/x-python",
   "name": "python",
   "nbconvert_exporter": "python",
   "pygments_lexer": "ipython3",
   "version": "3.10.4"
  }
 },
 "nbformat": 4,
 "nbformat_minor": 5
}
